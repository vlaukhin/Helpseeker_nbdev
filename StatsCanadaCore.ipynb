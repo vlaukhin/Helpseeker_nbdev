{
 "cells": [
  {
   "cell_type": "code",
   "execution_count": 1,
   "metadata": {},
   "outputs": [],
   "source": [
    "# default_exp StatsCanada"
   ]
  },
  {
   "cell_type": "markdown",
   "metadata": {},
   "source": [
    "# Merge Stats Canada\n",
    "\n",
    "> Merge scraped stats Canada data based on region."
   ]
  },
  {
   "cell_type": "code",
   "execution_count": 2,
   "metadata": {},
   "outputs": [],
   "source": [
    "#hide\n",
    "from nbdev.showdoc import *\n",
    "from nbdev import *"
   ]
  },
  {
   "cell_type": "markdown",
   "metadata": {},
   "source": [
    "# Config Script"
   ]
  },
  {
   "cell_type": "markdown",
   "metadata": {},
   "source": [
    "Reading in the config parameters as variables. \\\n",
    "When building the package with `nbdev_build` anything cells with the `#export` tag will be exported to the default script which is `StatsCanada.py`.  \n",
    "Otherwise a module name can be specified. \n",
    "\n",
    "Note: the module being exported to must already exist. However it can be just a template."
   ]
  },
  {
   "cell_type": "code",
   "execution_count": 3,
   "metadata": {},
   "outputs": [],
   "source": [
    "# export config\n",
    "from pathlib import Path\n",
    "import json\n",
    "\n",
    "config_file_path = Path(\"config.json\")\n",
    "f = open(config_file_path,\"r\")\n",
    "config = json.load(f)"
   ]
  },
  {
   "cell_type": "code",
   "execution_count": 4,
   "metadata": {},
   "outputs": [],
   "source": [
    "# export config\n",
    "stats_can_regions = config['stats_canada']['stats_can_regions']\n",
    "stats_can_feature_by_ids_dir =config['stats_canada']['stats_can_feature_by_ids_dir']\n",
    "target_path = config[\"target_path\"]\n",
    "target_features = config['target_features']\n",
    "feature_encoding_map_dir = config[\"feature_encoding_map_dir\"]\n",
    "polygon_path = config[\"polygon_path\"]\n",
    "target_df_regions = config[\"target_df_regions\"]"
   ]
  },
  {
   "cell_type": "markdown",
   "metadata": {},
   "source": [
    "# Preparing Logger"
   ]
  },
  {
   "cell_type": "markdown",
   "metadata": {},
   "source": [
    "Struct log for logging merging pipeline progress"
   ]
  },
  {
   "cell_type": "code",
   "execution_count": 5,
   "metadata": {},
   "outputs": [],
   "source": [
    "# export logging\n",
    "import datetime\n",
    "import logging\n",
    "import sys\n",
    "from structlog import wrap_logger\n",
    "from structlog.processors import JSONRenderer\n",
    "from structlog.stdlib import filter_by_level\n",
    "\n",
    "def add_timestamp(_, __, event_dict):\n",
    "    \"\"\"\n",
    "    Add timestamp to a structlog entry\n",
    "    Args:\n",
    "        event_dict: structlog event_dict\n",
    "\n",
    "    Returns:\n",
    "        event_dict: modified structlog event_dict, now includes a timestamp\n",
    "    \"\"\"\n",
    "    event_dict[\"timestamp\"] = datetime.datetime.utcnow()\n",
    "    return event_dict\n",
    "\n",
    "\n",
    "def logging_setup(log_level='INFO'):\n",
    "    \"\"\"\n",
    "    Set up standard structlog logger\n",
    "    Args:\n",
    "        log_level: string, defined the logging level. Can be: 'INFO', 'WARNING'\n",
    "\n",
    "    Returns:\n",
    "        logger: instantiated logger\n",
    "    \"\"\"\n",
    "\n",
    "    #     logging setup. Import log level from config.json\n",
    "\n",
    "    logging.basicConfig(stream=sys.stdout,format=\"%(message)s\", level=log_level)\n",
    "    logger = wrap_logger(\n",
    "        logging.getLogger(__name__),\n",
    "        processors=[\n",
    "            filter_by_level,\n",
    "            add_timestamp,\n",
    "            JSONRenderer(indent=1, sort_keys=True)\n",
    "        ]\n",
    "    )\n",
    "\n",
    "    return logger"
   ]
  },
  {
   "cell_type": "markdown",
   "metadata": {},
   "source": [
    "# Preprocessing of Target Values"
   ]
  },
  {
   "cell_type": "markdown",
   "metadata": {},
   "source": [
    "Reading in the target values and mapping to polygons target locations to polygons\\\n",
    "Returns a dictionary of geo dataframes"
   ]
  },
  {
   "cell_type": "code",
   "execution_count": 6,
   "metadata": {},
   "outputs": [],
   "source": [
    "# export TargetValuesPreprocessing\n",
    "\n",
    "import pandas as pd\n",
    "import numpy as np\n",
    "import os\n",
    "import re\n",
    "import geopandas as gp\n",
    "import warnings \n",
    "from pathlib import Path\n",
    "warnings.filterwarnings(\"ignore\")"
   ]
  },
  {
   "cell_type": "code",
   "execution_count": 7,
   "metadata": {},
   "outputs": [],
   "source": [
    "# export TargetValuesPreprocessing\n",
    "\n",
    "def _map_target_polygons(target,target_file,poly_file,target_df_regions):\n",
    "    \n",
    "    ''' \n",
    "    given the target as str as input this function reads in the appropriate final targets csv from target_values_paths\n",
    "    and appropriate polygons from target_polygon_paths and merges them into a single geo dataframe\n",
    "    \n",
    "    parameters:\n",
    "    ---------\n",
    "    target-> str\\n\n",
    "    target_values_paths -> dict[str,str] paths to the target csvs\\n\n",
    "    target_polygon_paths -> dict[str,str] paths to the polygon .gpkg files\\n\n",
    "    target_df_regions -> list[str]\\n\n",
    "    \n",
    "    ouput:\n",
    "    --------\n",
    "    mapped_df -> gp.GeoDataFrame\n",
    "    \n",
    "    target csv must have Community and Province columns. \n",
    "    '''    \n",
    "    \n",
    "    df = pd.read_csv(target_file)\n",
    "    gdf = gp.read_file(poly_file)\n",
    "    \n",
    "    mapped_df = df.merge(gdf,how = 'left',left_on=target_df_regions,right_on =[target,'PRNAME'])\n",
    "    mapped_df.dropna(subset = ['geometry'],inplace = True)\n",
    "    mapped_df.drop(columns = [target,'PRNAME'],inplace = True)\n",
    "    mapped_df = gp.GeoDataFrame(mapped_df,geometry = 'geometry')\n",
    "    return mapped_df"
   ]
  },
  {
   "cell_type": "code",
   "execution_count": 8,
   "metadata": {},
   "outputs": [],
   "source": [
    "# export TargetValuesPreprocessing\n",
    "\n",
    "def get_target_df(target_features,target_path,polygon_path,target_df_regions,logger):    \n",
    "    ''' \n",
    "    main function for this script to return a dictionary of dataframes mapped to each target,\n",
    "    \n",
    "    parameters:\n",
    "    ------------\n",
    "    target_features -> gp.GeoDataFrame\\n\n",
    "    target_values_paths -> dict[str,str] paths to the target csvs\\n\n",
    "    target_polygon_paths -> dict[str,str] paths to the polygon .gpkg files\\n\n",
    "    target_df_regions -> list[str]\n",
    "    \n",
    "    returns:\n",
    "    ---------\n",
    "    mapped_target -> dict[str,gp.GeoDataFrame]\n",
    "    '''        \n",
    "    logger.info(f\"Preprocessing target features\")\n",
    "    mapped_targets = {}\n",
    "\n",
    "    for target in [\"homeless\",\"suicide\",\"violence\"]:\n",
    "        logger.info(f\"mapping {target} polygon\")\n",
    "        \n",
    "        poly_file = Path(polygon_path)/f\"{target}_target_polygons.gpkg\"\n",
    "        target_file = Path(target_path)/f\"{target}_targets_final.csv\"\n",
    "        \n",
    "        df = _map_target_polygons(target,target_file,poly_file,target_df_regions)\n",
    "            \n",
    "        mapped_targets[target] = df\n",
    "        logger.info(f\"{target} polygon mapping completed\")\n",
    "    return mapped_targets"
   ]
  },
  {
   "cell_type": "markdown",
   "metadata": {},
   "source": [
    "Example of documentation: \n",
    "\n",
    "The `show_doc` function will give a sample of how the documentation will look with the current doc strings."
   ]
  },
  {
   "cell_type": "code",
   "execution_count": 9,
   "metadata": {},
   "outputs": [
    {
     "data": {
      "text/markdown": [
       "<h4 id=\"get_target_df\" class=\"doc_header\"><code>get_target_df</code><a href=\"__main__.py#L3\" class=\"source_link\" style=\"float:right\">[source]</a></h4>\n",
       "\n",
       "> <code>get_target_df</code>(**`target_features`**, **`target_path`**, **`polygon_path`**, **`target_df_regions`**, **`logger`**)\n",
       "\n",
       "main function for this script to return a dictionary of dataframes mapped to each target,\n",
       "\n",
       "parameters:\n",
       "------------\n",
       "target_features -> gp.GeoDataFrame\n",
       "\n",
       "target_values_paths -> dict[str,str] paths to the target csvs\n",
       "\n",
       "target_polygon_paths -> dict[str,str] paths to the polygon .gpkg files\n",
       "\n",
       "target_df_regions -> list[str]\n",
       "\n",
       "returns:\n",
       "---------\n",
       "mapped_target -> dict[str,gp.GeoDataFrame]"
      ],
      "text/plain": [
       "<IPython.core.display.Markdown object>"
      ]
     },
     "metadata": {},
     "output_type": "display_data"
    }
   ],
   "source": [
    "#hide\n",
    "show_doc(get_target_df)"
   ]
  },
  {
   "cell_type": "code",
   "execution_count": 10,
   "metadata": {},
   "outputs": [
    {
     "data": {
      "text/markdown": [
       "<h4 id=\"_map_target_polygons\" class=\"doc_header\"><code>_map_target_polygons</code><a href=\"__main__.py#L3\" class=\"source_link\" style=\"float:right\">[source]</a></h4>\n",
       "\n",
       "> <code>_map_target_polygons</code>(**`target`**, **`target_file`**, **`poly_file`**, **`target_df_regions`**)\n",
       "\n",
       "given the target as str as input this function reads in the appropriate final targets csv from target_values_paths\n",
       "and appropriate polygons from target_polygon_paths and merges them into a single geo dataframe\n",
       "\n",
       "parameters:\n",
       "---------\n",
       "target-> str\n",
       "\n",
       "target_values_paths -> dict[str,str] paths to the target csvs\n",
       "\n",
       "target_polygon_paths -> dict[str,str] paths to the polygon .gpkg files\n",
       "\n",
       "target_df_regions -> list[str]\n",
       "\n",
       "\n",
       "ouput:\n",
       "--------\n",
       "mapped_df -> gp.GeoDataFrame\n",
       "\n",
       "target csv must have Community and Province columns. "
      ],
      "text/plain": [
       "<IPython.core.display.Markdown object>"
      ]
     },
     "metadata": {},
     "output_type": "display_data"
    }
   ],
   "source": [
    "#hide\n",
    "show_doc(_map_target_polygons)"
   ]
  },
  {
   "cell_type": "markdown",
   "metadata": {},
   "source": [
    "Example of exploratory testing \\\n",
    "\\\n",
    "We are able to experinment with and visually validate the modules, similarly to EDA code where the ML dev is constantly iterating. This will not be exported to a `.py` file during the build."
   ]
  },
  {
   "cell_type": "code",
   "execution_count": 11,
   "metadata": {},
   "outputs": [
    {
     "name": "stdout",
     "output_type": "stream",
     "text": [
      "{\n",
      " \"event\": \"Preprocessing target features\",\n",
      " \"timestamp\": \"datetime.datetime(2021, 2, 24, 16, 42, 34, 336068)\"\n",
      "}\n",
      "{\n",
      " \"event\": \"mapping homeless polygon\",\n",
      " \"timestamp\": \"datetime.datetime(2021, 2, 24, 16, 42, 34, 353022)\"\n",
      "}\n",
      "Failed to auto identify EPSG: 7\n",
      "NumExpr defaulting to 8 threads.\n",
      "{\n",
      " \"event\": \"homeless polygon mapping completed\",\n",
      " \"timestamp\": \"datetime.datetime(2021, 2, 24, 16, 42, 34, 742018)\"\n",
      "}\n",
      "{\n",
      " \"event\": \"mapping suicide polygon\",\n",
      " \"timestamp\": \"datetime.datetime(2021, 2, 24, 16, 42, 34, 745237)\"\n",
      "}\n",
      "Failed to auto identify EPSG: 7\n",
      "{\n",
      " \"event\": \"suicide polygon mapping completed\",\n",
      " \"timestamp\": \"datetime.datetime(2021, 2, 24, 16, 42, 35, 83532)\"\n",
      "}\n",
      "{\n",
      " \"event\": \"mapping violence polygon\",\n",
      " \"timestamp\": \"datetime.datetime(2021, 2, 24, 16, 42, 35, 86491)\"\n",
      "}\n",
      "Failed to auto identify EPSG: 7\n",
      "{\n",
      " \"event\": \"violence polygon mapping completed\",\n",
      " \"timestamp\": \"datetime.datetime(2021, 2, 24, 16, 42, 35, 318509)\"\n",
      "}\n"
     ]
    }
   ],
   "source": [
    "#hide\n",
    "logger = logging_setup(log_level='INFO')\n",
    "\n",
    "mapped_targets = get_target_df(target_features,\n",
    "                               target_path,\n",
    "                               polygon_path,\n",
    "                               target_df_regions,\n",
    "                               logger)"
   ]
  },
  {
   "cell_type": "code",
   "execution_count": 12,
   "metadata": {},
   "outputs": [
    {
     "data": {
      "text/html": [
       "<div>\n",
       "<style scoped>\n",
       "    .dataframe tbody tr th:only-of-type {\n",
       "        vertical-align: middle;\n",
       "    }\n",
       "\n",
       "    .dataframe tbody tr th {\n",
       "        vertical-align: top;\n",
       "    }\n",
       "\n",
       "    .dataframe thead th {\n",
       "        text-align: right;\n",
       "    }\n",
       "</style>\n",
       "<table border=\"1\" class=\"dataframe\">\n",
       "  <thead>\n",
       "    <tr style=\"text-align: right;\">\n",
       "      <th></th>\n",
       "      <th>Year</th>\n",
       "      <th>Province</th>\n",
       "      <th>Community</th>\n",
       "      <th>PIT Total</th>\n",
       "      <th>PIT-Sheltered</th>\n",
       "      <th>PIT-Unsheltered</th>\n",
       "      <th>DV_target</th>\n",
       "      <th>CSDNAME</th>\n",
       "      <th>geometry</th>\n",
       "    </tr>\n",
       "  </thead>\n",
       "  <tbody>\n",
       "    <tr>\n",
       "      <th>0</th>\n",
       "      <td>2002</td>\n",
       "      <td>British Columbia</td>\n",
       "      <td>Burnaby</td>\n",
       "      <td>18</td>\n",
       "      <td>14</td>\n",
       "      <td>44</td>\n",
       "      <td>Burnaby</td>\n",
       "      <td>Burnaby</td>\n",
       "      <td>POLYGON ((4026984.377 2004001.803, 4027065.283...</td>\n",
       "    </tr>\n",
       "    <tr>\n",
       "      <th>1</th>\n",
       "      <td>2002</td>\n",
       "      <td>British Columbia</td>\n",
       "      <td>Delta/White Rock</td>\n",
       "      <td>11</td>\n",
       "      <td>0</td>\n",
       "      <td>0</td>\n",
       "      <td>None</td>\n",
       "      <td>Delta</td>\n",
       "      <td>MULTIPOLYGON (((4027416.129 1971099.869, 40275...</td>\n",
       "    </tr>\n",
       "    <tr>\n",
       "      <th>2</th>\n",
       "      <td>2002</td>\n",
       "      <td>British Columbia</td>\n",
       "      <td>Langley</td>\n",
       "      <td>18</td>\n",
       "      <td>0</td>\n",
       "      <td>0</td>\n",
       "      <td>None</td>\n",
       "      <td>Langley</td>\n",
       "      <td>POLYGON ((4044035.820 1983268.574, 4044044.823...</td>\n",
       "    </tr>\n",
       "    <tr>\n",
       "      <th>3</th>\n",
       "      <td>2002</td>\n",
       "      <td>British Columbia</td>\n",
       "      <td>Maple Ridge/Pitt Meadows</td>\n",
       "      <td>66</td>\n",
       "      <td>0</td>\n",
       "      <td>0</td>\n",
       "      <td>None</td>\n",
       "      <td>Maple Ridge</td>\n",
       "      <td>POLYGON ((4060993.469 1993881.186, 4061981.717...</td>\n",
       "    </tr>\n",
       "    <tr>\n",
       "      <th>4</th>\n",
       "      <td>2002</td>\n",
       "      <td>British Columbia</td>\n",
       "      <td>New Westminster</td>\n",
       "      <td>74</td>\n",
       "      <td>0</td>\n",
       "      <td>0</td>\n",
       "      <td>New Westminster</td>\n",
       "      <td>New Westminster</td>\n",
       "      <td>POLYGON ((4031000.411 1995145.954, 4031031.369...</td>\n",
       "    </tr>\n",
       "  </tbody>\n",
       "</table>\n",
       "</div>"
      ],
      "text/plain": [
       "   Year          Province                 Community  PIT Total  PIT-Sheltered  \\\n",
       "0  2002  British Columbia                   Burnaby         18             14   \n",
       "1  2002  British Columbia          Delta/White Rock         11              0   \n",
       "2  2002  British Columbia                   Langley         18              0   \n",
       "3  2002  British Columbia  Maple Ridge/Pitt Meadows         66              0   \n",
       "4  2002  British Columbia           New Westminster         74              0   \n",
       "\n",
       "   PIT-Unsheltered        DV_target          CSDNAME  \\\n",
       "0               44          Burnaby          Burnaby   \n",
       "1                0             None            Delta   \n",
       "2                0             None          Langley   \n",
       "3                0             None      Maple Ridge   \n",
       "4                0  New Westminster  New Westminster   \n",
       "\n",
       "                                            geometry  \n",
       "0  POLYGON ((4026984.377 2004001.803, 4027065.283...  \n",
       "1  MULTIPOLYGON (((4027416.129 1971099.869, 40275...  \n",
       "2  POLYGON ((4044035.820 1983268.574, 4044044.823...  \n",
       "3  POLYGON ((4060993.469 1993881.186, 4061981.717...  \n",
       "4  POLYGON ((4031000.411 1995145.954, 4031031.369...  "
      ]
     },
     "execution_count": 12,
     "metadata": {},
     "output_type": "execute_result"
    }
   ],
   "source": [
    "#hide\n",
    "mapped_targets['homeless'].head()"
   ]
  },
  {
   "cell_type": "code",
   "execution_count": 13,
   "metadata": {},
   "outputs": [
    {
     "data": {
      "text/html": [
       "<div>\n",
       "<style scoped>\n",
       "    .dataframe tbody tr th:only-of-type {\n",
       "        vertical-align: middle;\n",
       "    }\n",
       "\n",
       "    .dataframe tbody tr th {\n",
       "        vertical-align: top;\n",
       "    }\n",
       "\n",
       "    .dataframe thead th {\n",
       "        text-align: right;\n",
       "    }\n",
       "</style>\n",
       "<table border=\"1\" class=\"dataframe\">\n",
       "  <thead>\n",
       "    <tr style=\"text-align: right;\">\n",
       "      <th></th>\n",
       "      <th>Year</th>\n",
       "      <th>Community</th>\n",
       "      <th>Year_mapping</th>\n",
       "      <th>suicide_value</th>\n",
       "      <th>Province</th>\n",
       "      <th>CSDNAME</th>\n",
       "      <th>geometry</th>\n",
       "    </tr>\n",
       "  </thead>\n",
       "  <tbody>\n",
       "    <tr>\n",
       "      <th>0</th>\n",
       "      <td>2000</td>\n",
       "      <td>St. John's</td>\n",
       "      <td>2000/2002</td>\n",
       "      <td>35</td>\n",
       "      <td>Newfoundland and Labrador</td>\n",
       "      <td>Bauline</td>\n",
       "      <td>MULTIPOLYGON (((8991919.260 2135215.551, 89918...</td>\n",
       "    </tr>\n",
       "    <tr>\n",
       "      <th>1</th>\n",
       "      <td>2000</td>\n",
       "      <td>Halifax</td>\n",
       "      <td>2000/2002</td>\n",
       "      <td>80</td>\n",
       "      <td>Nova Scotia</td>\n",
       "      <td>Beaver Lake 17</td>\n",
       "      <td>MULTIPOLYGON (((8466571.394 1473434.837, 84665...</td>\n",
       "    </tr>\n",
       "    <tr>\n",
       "      <th>2</th>\n",
       "      <td>2000</td>\n",
       "      <td>Moncton</td>\n",
       "      <td>2000/2002</td>\n",
       "      <td>35</td>\n",
       "      <td>New Brunswick</td>\n",
       "      <td>Coverdale</td>\n",
       "      <td>POLYGON ((8226217.329 1576063.031, 8226255.246...</td>\n",
       "    </tr>\n",
       "    <tr>\n",
       "      <th>3</th>\n",
       "      <td>2000</td>\n",
       "      <td>Saint John</td>\n",
       "      <td>2000/2002</td>\n",
       "      <td>35</td>\n",
       "      <td>New Brunswick</td>\n",
       "      <td>Grand Bay-Westfield</td>\n",
       "      <td>MULTIPOLYGON (((8201256.689 1415099.943, 82012...</td>\n",
       "    </tr>\n",
       "    <tr>\n",
       "      <th>4</th>\n",
       "      <td>2000</td>\n",
       "      <td>Saguenay</td>\n",
       "      <td>2000/2002</td>\n",
       "      <td>95</td>\n",
       "      <td>Quebec</td>\n",
       "      <td>Begin</td>\n",
       "      <td>POLYGON ((7718195.920 1638696.611, 7718179.649...</td>\n",
       "    </tr>\n",
       "  </tbody>\n",
       "</table>\n",
       "</div>"
      ],
      "text/plain": [
       "   Year   Community Year_mapping  suicide_value                   Province  \\\n",
       "0  2000  St. John's    2000/2002             35  Newfoundland and Labrador   \n",
       "1  2000     Halifax    2000/2002             80                Nova Scotia   \n",
       "2  2000     Moncton    2000/2002             35              New Brunswick   \n",
       "3  2000  Saint John    2000/2002             35              New Brunswick   \n",
       "4  2000    Saguenay    2000/2002             95                     Quebec   \n",
       "\n",
       "               CSDNAME                                           geometry  \n",
       "0              Bauline  MULTIPOLYGON (((8991919.260 2135215.551, 89918...  \n",
       "1       Beaver Lake 17  MULTIPOLYGON (((8466571.394 1473434.837, 84665...  \n",
       "2            Coverdale  POLYGON ((8226217.329 1576063.031, 8226255.246...  \n",
       "3  Grand Bay-Westfield  MULTIPOLYGON (((8201256.689 1415099.943, 82012...  \n",
       "4                Begin  POLYGON ((7718195.920 1638696.611, 7718179.649...  "
      ]
     },
     "execution_count": 13,
     "metadata": {},
     "output_type": "execute_result"
    }
   ],
   "source": [
    "#hide\n",
    "mapped_targets['suicide'].head()"
   ]
  },
  {
   "cell_type": "code",
   "execution_count": 14,
   "metadata": {},
   "outputs": [
    {
     "data": {
      "text/html": [
       "<div>\n",
       "<style scoped>\n",
       "    .dataframe tbody tr th:only-of-type {\n",
       "        vertical-align: middle;\n",
       "    }\n",
       "\n",
       "    .dataframe tbody tr th {\n",
       "        vertical-align: top;\n",
       "    }\n",
       "\n",
       "    .dataframe thead th {\n",
       "        text-align: right;\n",
       "    }\n",
       "</style>\n",
       "<table border=\"1\" class=\"dataframe\">\n",
       "  <thead>\n",
       "    <tr style=\"text-align: right;\">\n",
       "      <th></th>\n",
       "      <th>Year</th>\n",
       "      <th>Province</th>\n",
       "      <th>Community</th>\n",
       "      <th>violence_rate</th>\n",
       "      <th>nat_avg</th>\n",
       "      <th>HOMELESS_T</th>\n",
       "      <th>CSDNAME</th>\n",
       "      <th>geometry</th>\n",
       "    </tr>\n",
       "  </thead>\n",
       "  <tbody>\n",
       "    <tr>\n",
       "      <th>0</th>\n",
       "      <td>2008</td>\n",
       "      <td>British Columbia</td>\n",
       "      <td>Abbotsford</td>\n",
       "      <td>1188</td>\n",
       "      <td>1357.159959</td>\n",
       "      <td>Abbotsford</td>\n",
       "      <td>Abbotsford</td>\n",
       "      <td>POLYGON ((4059954.206 1963195.571, 4059965.434...</td>\n",
       "    </tr>\n",
       "    <tr>\n",
       "      <th>1</th>\n",
       "      <td>2008</td>\n",
       "      <td>Ontario</td>\n",
       "      <td>Guelph</td>\n",
       "      <td>724</td>\n",
       "      <td>1357.159959</td>\n",
       "      <td>Guelph-Wellington</td>\n",
       "      <td>Guelph</td>\n",
       "      <td>POLYGON ((7156320.820 906917.497, 7156559.923 ...</td>\n",
       "    </tr>\n",
       "    <tr>\n",
       "      <th>2</th>\n",
       "      <td>2008</td>\n",
       "      <td>New Brunswick</td>\n",
       "      <td>Saint John</td>\n",
       "      <td>2271</td>\n",
       "      <td>1357.159959</td>\n",
       "      <td>Saint John</td>\n",
       "      <td>Saint John</td>\n",
       "      <td>MULTIPOLYGON (((8201256.689 1415099.943, 82012...</td>\n",
       "    </tr>\n",
       "    <tr>\n",
       "      <th>3</th>\n",
       "      <td>2008</td>\n",
       "      <td>Saskatchewan</td>\n",
       "      <td>Saskatoon</td>\n",
       "      <td>2002</td>\n",
       "      <td>1357.159959</td>\n",
       "      <td>Saskatoon</td>\n",
       "      <td>Saskatoon</td>\n",
       "      <td>POLYGON ((5208941.440 1902191.771, 5208830.854...</td>\n",
       "    </tr>\n",
       "    <tr>\n",
       "      <th>4</th>\n",
       "      <td>2008</td>\n",
       "      <td>Ontario</td>\n",
       "      <td>Greater Sudbury</td>\n",
       "      <td>1087</td>\n",
       "      <td>1357.159959</td>\n",
       "      <td>Greater Sudbury</td>\n",
       "      <td>Greater Sudbury</td>\n",
       "      <td>MULTIPOLYGON (((7464186.254 1057517.597, 74641...</td>\n",
       "    </tr>\n",
       "  </tbody>\n",
       "</table>\n",
       "</div>"
      ],
      "text/plain": [
       "   Year          Province        Community violence_rate      nat_avg  \\\n",
       "0  2008  British Columbia       Abbotsford          1188  1357.159959   \n",
       "1  2008           Ontario           Guelph           724  1357.159959   \n",
       "2  2008     New Brunswick       Saint John          2271  1357.159959   \n",
       "3  2008      Saskatchewan        Saskatoon          2002  1357.159959   \n",
       "4  2008           Ontario  Greater Sudbury          1087  1357.159959   \n",
       "\n",
       "          HOMELESS_T          CSDNAME  \\\n",
       "0         Abbotsford       Abbotsford   \n",
       "1  Guelph-Wellington           Guelph   \n",
       "2         Saint John       Saint John   \n",
       "3          Saskatoon        Saskatoon   \n",
       "4    Greater Sudbury  Greater Sudbury   \n",
       "\n",
       "                                            geometry  \n",
       "0  POLYGON ((4059954.206 1963195.571, 4059965.434...  \n",
       "1  POLYGON ((7156320.820 906917.497, 7156559.923 ...  \n",
       "2  MULTIPOLYGON (((8201256.689 1415099.943, 82012...  \n",
       "3  POLYGON ((5208941.440 1902191.771, 5208830.854...  \n",
       "4  MULTIPOLYGON (((7464186.254 1057517.597, 74641...  "
      ]
     },
     "execution_count": 14,
     "metadata": {},
     "output_type": "execute_result"
    }
   ],
   "source": [
    "#hide\n",
    "mapped_targets['violence'].head()"
   ]
  },
  {
   "cell_type": "markdown",
   "metadata": {},
   "source": [
    "You can export the notebook to a package with the following function"
   ]
  },
  {
   "cell_type": "code",
   "execution_count": 15,
   "metadata": {},
   "outputs": [
    {
     "name": "stdout",
     "output_type": "stream",
     "text": [
      "Converted config.ipynb.\n",
      "Converted index.ipynb.\n",
      "Converted logging.ipynb.\n",
      "Converted StatsCanadaCore.ipynb.\n",
      "Converted TargetValuesPreprocessing.ipynb.\n"
     ]
    }
   ],
   "source": [
    "from nbdev.export import notebook2script\n",
    "\n",
    "notebook2script()"
   ]
  },
  {
   "cell_type": "code",
   "execution_count": 16,
   "metadata": {},
   "outputs": [],
   "source": [
    "#hide\n",
    "from nbdev.export2html import nbdev_build_docs, notebook2html\n",
    "nbdev_build_docs()"
   ]
  },
  {
   "cell_type": "code",
   "execution_count": null,
   "metadata": {},
   "outputs": [],
   "source": []
  }
 ],
 "metadata": {
  "kernelspec": {
   "display_name": "Python 3",
   "language": "python",
   "name": "python3"
  },
  "language_info": {
   "codemirror_mode": {
    "name": "ipython",
    "version": 3
   },
   "file_extension": ".py",
   "mimetype": "text/x-python",
   "name": "python",
   "nbconvert_exporter": "python",
   "pygments_lexer": "ipython3",
   "version": "3.7.4"
  }
 },
 "nbformat": 4,
 "nbformat_minor": 2
}
